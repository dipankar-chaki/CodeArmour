{
 "cells": [
  {
   "cell_type": "code",
   "execution_count": 1,
   "metadata": {},
   "outputs": [],
   "source": [
    "import pandas as pd\n",
    "import os\n",
    "from bs4 import BeautifulSoup\n",
    "import requests\n"
   ]
  },
  {
   "cell_type": "code",
   "execution_count": 6,
   "metadata": {},
   "outputs": [],
   "source": [
    "folder_path = './CWE'"
   ]
  },
  {
   "cell_type": "code",
   "execution_count": 11,
   "metadata": {},
   "outputs": [
    {
     "name": "stdout",
     "output_type": "stream",
     "text": [
      "train.csv created.\n",
      "test.csv created.\n",
      "val.csv created.\n"
     ]
    }
   ],
   "source": [
    "filenames = [\"train.csv\", \"test.csv\", \"val.csv\"]\n",
    "path = \"data/result\"\n",
    "temp = pd.DataFrame()\n",
    "for filename in filenames:\n",
    "    full_path = os.path.join(path, filename)\n",
    "    if not os.path.exists(full_path):\n",
    "        temp.to_csv(full_path, index=False)\n",
    "        print(f\"{filename} created.\")\n",
    "    else:\n",
    "        print(f\"{filename} already exists.\")"
   ]
  },
  {
   "cell_type": "markdown",
   "metadata": {},
   "source": [
    "For each file in the dataset folder, open it up and switch it into a dataframe"
   ]
  },
  {
   "cell_type": "code",
   "execution_count": 22,
   "metadata": {},
   "outputs": [],
   "source": [
    "filenames = [\"train.csv\", \"test.csv\", \"val.csv\"]\n",
    "path = \"data/result\"\n",
    "folder_path = 'data/CWE'\n",
    "\n",
    "for cwe in os.listdir(folder_path):\n",
    "    if cwe.endswith('.csv'):\n",
    "        file_path = os.path.join(folder_path, cwe)\n",
    "        df = pd.read_csv(file_path)\n",
    "        df = df[['func_before', 'func_after', 'C1_Description_of_Functionality_In_Context', 'C2_Description_of_Functionality_Generic', 'P1_Code_Change', 'C3_Explanation_of_Vulnerability_In_Context', 'C4_Explanation_of_Vulnerability_Generic', 'C5_Explanation_Vulnerability_Fixed_In_Context', 'C6_Explanation_Vulnerability_Fixed_Generic']]\n",
    "        df.rename(columns={'func_before': 'vulnerable', 'func_after': 'fixed', 'C1_Description_of_Functionality_In_Context': 'Description_of_Functionality_In_Context', 'C2_Description_of_Functionality_Generic': 'Description_of_Functionality_Generic', 'P1_Code_Change': 'Code_Change', 'C3_Explanation_of_Vulnerability_In_Context': 'Explanation_of_Vulnerability_In_Context', 'C4_Explanation_of_Vulnerability_Generic': 'Explanation_of_Vulnerability_Generic', 'C5_Explanation_Vulnerability_Fixed_In_Context': 'Explanation_Vulnerability_Fixed_In_Context', 'C6_Explanation_Vulnerability_Fixed_Generic': 'Explanation_Vulnerability_Fixed_Generic'})\n",
    "        first_column = os.path.splitext(cwe)[0].replace('-', '')\n",
    "        df.insert(0, 'CWEID', first_column)\n",
    "        for i, row in df.iterrows():\n",
    "            filename = filenames[i % len(filenames)]\n",
    "            full_path = os.path.join(path, filename)\n",
    "            row.to_frame().T.to_csv(full_path, mode='a', header=not os.path.exists(full_path) or os.path.getsize(full_path) == 0, index=False)\n"
   ]
  }
 ],
 "metadata": {
  "kernelspec": {
   "display_name": ".venv",
   "language": "python",
   "name": "python3"
  },
  "language_info": {
   "codemirror_mode": {
    "name": "ipython",
    "version": 3
   },
   "file_extension": ".py",
   "mimetype": "text/x-python",
   "name": "python",
   "nbconvert_exporter": "python",
   "pygments_lexer": "ipython3",
   "version": "3.12.4"
  }
 },
 "nbformat": 4,
 "nbformat_minor": 2
}
